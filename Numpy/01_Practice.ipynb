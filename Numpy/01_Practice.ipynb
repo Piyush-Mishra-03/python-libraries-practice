{
 "cells": [
  {
   "cell_type": "code",
   "execution_count": 2,
   "id": "e116aeac-bbf0-420d-a605-ee37388a25d1",
   "metadata": {},
   "outputs": [],
   "source": [
    "import numpy as np\n",
    "import pandas as pd\n",
    "import matplotlib.pyplot as plt"
   ]
  },
  {
   "cell_type": "markdown",
   "id": "6c9571e7-a3a4-472a-af72-1b63a1e0a189",
   "metadata": {
    "jp-MarkdownHeadingCollapsed": true
   },
   "source": [
    "# 🔹 Array Creation & Basics"
   ]
  },
  {
   "cell_type": "markdown",
   "id": "c3e33f85-6ec6-43c8-9bb9-b79b854e144c",
   "metadata": {},
   "source": [
    "1. Create a 1D NumPy array with values from 0 to 9.\n",
    "   "
   ]
  },
  {
   "cell_type": "code",
   "execution_count": 5,
   "id": "ee93b108-4bea-4e5f-b9f6-8b6499cb2857",
   "metadata": {},
   "outputs": [
    {
     "name": "stdout",
     "output_type": "stream",
     "text": [
      "[0 1 2 3 4 5 6 7 8 9]\n"
     ]
    }
   ],
   "source": [
    "array1 = np.arange(0,10)\n",
    "print(array1)"
   ]
  },
  {
   "cell_type": "markdown",
   "id": "47eb1750-c96d-412d-aef2-372d8e3a2a86",
   "metadata": {},
   "source": [
    "2. Create a 2D array with values from 1 to 9 (3x3)."
   ]
  },
  {
   "cell_type": "code",
   "execution_count": 12,
   "id": "aac6087a-ec7e-4b50-92bd-f10389940419",
   "metadata": {},
   "outputs": [
    {
     "name": "stdout",
     "output_type": "stream",
     "text": [
      "[1 2 3 4 5 6 7 8 9]\n",
      "Reshaped Array \n",
      "[[1 2 3]\n",
      " [4 5 6]\n",
      " [7 8 9]]\n"
     ]
    }
   ],
   "source": [
    "array2 = np.arange(1,10)\n",
    "print(array2)\n",
    "\n",
    "array2_reshaped = array2.reshape(3,3)\n",
    "print(f\"Reshaped Array \\n{array2_reshaped}\")"
   ]
  },
  {
   "cell_type": "markdown",
   "id": "83dc1c93-7012-4136-ae85-86470c9a8e34",
   "metadata": {},
   "source": [
    "3. Create an array of all zeros with size 10."
   ]
  },
  {
   "cell_type": "code",
   "execution_count": 13,
   "id": "064dfd08-1fb4-4450-b48b-9c4896e2ce69",
   "metadata": {},
   "outputs": [
    {
     "data": {
      "text/plain": [
       "array([0., 0., 0., 0., 0., 0., 0., 0., 0., 0.])"
      ]
     },
     "execution_count": 13,
     "metadata": {},
     "output_type": "execute_result"
    }
   ],
   "source": [
    "array_zeros = np.zeros(10)\n",
    "array_zeros"
   ]
  },
  {
   "cell_type": "markdown",
   "id": "88f6eaed-a4f8-4674-b484-2272173dfa15",
   "metadata": {},
   "source": [
    "4. Create an array of all ones with size 7."
   ]
  },
  {
   "cell_type": "code",
   "execution_count": 14,
   "id": "643903ba-ec63-40ef-96f0-ea587f8e8336",
   "metadata": {},
   "outputs": [
    {
     "data": {
      "text/plain": [
       "array([1., 1., 1., 1., 1., 1., 1.])"
      ]
     },
     "execution_count": 14,
     "metadata": {},
     "output_type": "execute_result"
    }
   ],
   "source": [
    "array_ones = np.ones(7)\n",
    "array_ones"
   ]
  },
  {
   "cell_type": "markdown",
   "id": "bb6fc00e-0a5c-4dff-afcf-6a2c516fb0f7",
   "metadata": {},
   "source": [
    "5. Create an array filled with the number 5 of size 6.\n",
    "\n",
    " "
   ]
  },
  {
   "cell_type": "code",
   "execution_count": 18,
   "id": "9a052730-942c-40ce-8d37-f773abdd1519",
   "metadata": {},
   "outputs": [
    {
     "data": {
      "text/plain": [
       "array([5, 5, 5, 5, 5, 5])"
      ]
     },
     "execution_count": 18,
     "metadata": {},
     "output_type": "execute_result"
    }
   ],
   "source": [
    "array_full = np.full(6,5)\n",
    "array_full"
   ]
  },
  {
   "cell_type": "markdown",
   "id": "5119694a-bda9-4ea1-8d70-d5d76693a0f3",
   "metadata": {},
   "source": [
    "6. Create a sequence of numbers from 10 to 50 with a step of 5."
   ]
  },
  {
   "cell_type": "code",
   "execution_count": 19,
   "id": "bd9c9429-af51-4aea-85e6-852d939e64f9",
   "metadata": {},
   "outputs": [
    {
     "data": {
      "text/plain": [
       "array([10, 15, 20, 25, 30, 35, 40, 45, 50])"
      ]
     },
     "execution_count": 19,
     "metadata": {},
     "output_type": "execute_result"
    }
   ],
   "source": [
    "array_arange = np.arange(10,51,5)\n",
    "array_arange"
   ]
  },
  {
   "cell_type": "markdown",
   "id": "9b3888f1-4cd2-41b7-8c56-71f7505c458e",
   "metadata": {},
   "source": [
    "7. Create an array of 15 random integers between 1 and 100."
   ]
  },
  {
   "cell_type": "code",
   "execution_count": 22,
   "id": "589353cb-6879-4aa3-bae3-8483003926ce",
   "metadata": {},
   "outputs": [
    {
     "data": {
      "text/plain": [
       "array([39, 56, 85, 85, 31,  5, 50, 89, 33,  6, 45, 86, 55, 82, 87],\n",
       "      dtype=int32)"
      ]
     },
     "execution_count": 22,
     "metadata": {},
     "output_type": "execute_result"
    }
   ],
   "source": [
    "import random\n",
    "array_random = np.random.randint(1,100, size=15)\n",
    "array_random"
   ]
  },
  {
   "cell_type": "markdown",
   "id": "c2773521-8cca-4b1c-886f-30f74034b444",
   "metadata": {},
   "source": [
    "8. Create an identity matrix of size 4x4."
   ]
  },
  {
   "cell_type": "code",
   "execution_count": 24,
   "id": "838d65c3-b6cf-475c-bdfd-50998a641ce6",
   "metadata": {},
   "outputs": [
    {
     "data": {
      "text/plain": [
       "array([[1., 0., 0., 0.],\n",
       "       [0., 1., 0., 0.],\n",
       "       [0., 0., 1., 0.],\n",
       "       [0., 0., 0., 1.]])"
      ]
     },
     "execution_count": 24,
     "metadata": {},
     "output_type": "execute_result"
    }
   ],
   "source": [
    "array_identity = np.eye(4)\n",
    "array_identity"
   ]
  },
  {
   "cell_type": "markdown",
   "id": "f96abd2a-f2fe-4b45-bc2f-0510b31981fa",
   "metadata": {},
   "source": [
    "9. Create a 1D array of 20 equally spaced points between 0 and 1."
   ]
  },
  {
   "cell_type": "code",
   "execution_count": 25,
   "id": "56fea8db-ced8-492f-981c-d76679c244c1",
   "metadata": {},
   "outputs": [
    {
     "data": {
      "text/plain": [
       "array([0.        , 0.05263158, 0.10526316, 0.15789474, 0.21052632,\n",
       "       0.26315789, 0.31578947, 0.36842105, 0.42105263, 0.47368421,\n",
       "       0.52631579, 0.57894737, 0.63157895, 0.68421053, 0.73684211,\n",
       "       0.78947368, 0.84210526, 0.89473684, 0.94736842, 1.        ])"
      ]
     },
     "execution_count": 25,
     "metadata": {},
     "output_type": "execute_result"
    }
   ],
   "source": [
    "array_linspace = np.linspace(0,1,20)\n",
    "array_linspace"
   ]
  },
  {
   "cell_type": "markdown",
   "id": "185190eb-2b66-4a88-84ba-719218235815",
   "metadata": {},
   "source": [
    "10. Generate an array of 10 random floats between 0 and 1."
   ]
  },
  {
   "cell_type": "code",
   "execution_count": 27,
   "id": "8efc2683-49fc-4cb5-821f-cfa58ae59781",
   "metadata": {},
   "outputs": [
    {
     "data": {
      "text/plain": [
       "array([0.86046024, 0.55422271, 0.29239332, 0.40334139, 0.64258867,\n",
       "       0.60705175, 0.29243936, 0.62767745, 0.31385113, 0.79799406])"
      ]
     },
     "execution_count": 27,
     "metadata": {},
     "output_type": "execute_result"
    }
   ],
   "source": [
    "array_randomfloats = np.random.rand(10)\n",
    "\n",
    "array_randomfloats"
   ]
  },
  {
   "cell_type": "markdown",
   "id": "5873fe24-9602-48f8-a9ce-e7c9b48bf2e7",
   "metadata": {
    "jp-MarkdownHeadingCollapsed": true
   },
   "source": [
    "# 🔹 Array Properties\n",
    "\n"
   ]
  },
  {
   "cell_type": "markdown",
   "id": "a83ef13d-c8a6-41f0-8a4f-0ea560db3728",
   "metadata": {},
   "source": [
    "1. Find the shape, size, and data type of a NumPy array."
   ]
  },
  {
   "cell_type": "code",
   "execution_count": 35,
   "id": "deda36b3-5a45-4f12-b2b4-9106dda9eb16",
   "metadata": {},
   "outputs": [
    {
     "name": "stdout",
     "output_type": "stream",
     "text": [
      "[[ 1  2  3  4  5]\n",
      " [ 6  7  8  9 10]\n",
      " [11 12 13 14 15]\n",
      " [16 17 18 19 20]]\n",
      "Shape : (4, 5)\n",
      "Size : 20\n",
      "Data Type : int64\n"
     ]
    }
   ],
   "source": [
    "array_test = np.array([[1,2,3,4,5],\n",
    "                      [6,7,8,9,10],\n",
    "                      [11,12,13,14,15],\n",
    "                      [16,17,18,19,20]])\n",
    "print(array_test)\n",
    "print(\"Shape :\",array_test.shape)\n",
    "print(\"Size :\", array_test.size)\n",
    "print(\"Data Type :\", array_test.dtype)"
   ]
  },
  {
   "cell_type": "markdown",
   "id": "cbbf2a62-ba30-4439-82bd-f41f7189ad69",
   "metadata": {},
   "source": [
    "2. Check the number of dimensions of a given array.\n"
   ]
  },
  {
   "cell_type": "code",
   "execution_count": 38,
   "id": "56550640-7802-4e94-8376-289cdc64b0d8",
   "metadata": {},
   "outputs": [
    {
     "name": "stdout",
     "output_type": "stream",
     "text": [
      "[[[[ 1  2  3  4  5]]\n",
      "\n",
      "  [[ 6  7  8  9 10]]]\n",
      "\n",
      "\n",
      " [[[11 12 13 14 15]]\n",
      "\n",
      "  [[16 17 18 19 20]]]]\n",
      "Dimension : 4\n"
     ]
    }
   ],
   "source": [
    "array_test2 = np.array([[[np.arange(1,6)],\n",
    "                       [np.arange(6,11)]],\n",
    "                      [[np.arange(11,16)],\n",
    "                       [np.arange(16,21)]]])\n",
    "\n",
    "print(array_test2)\n",
    "print(\"Dimension :\",array_test2.ndim)"
   ]
  },
  {
   "cell_type": "markdown",
   "id": "0645682c-b789-4ee4-9550-1f75d3118bbf",
   "metadata": {},
   "source": [
    "3. Change the data type of an array to float."
   ]
  },
  {
   "cell_type": "code",
   "execution_count": 40,
   "id": "67cce4e7-d0e1-4648-99ad-8e7582d174b7",
   "metadata": {},
   "outputs": [
    {
     "data": {
      "text/plain": [
       "dtype('float64')"
      ]
     },
     "execution_count": 40,
     "metadata": {},
     "output_type": "execute_result"
    }
   ],
   "source": [
    "changed_datatype = array_test.astype(\"float\")\n",
    "changed_datatype.dtype"
   ]
  },
  {
   "cell_type": "markdown",
   "id": "dace5c05-3f84-4c5b-b1dd-dc251f55ef2a",
   "metadata": {},
   "source": [
    "4. Reshape a 1D array of 12 elements into a 3x4 2D array.\n"
   ]
  },
  {
   "cell_type": "code",
   "execution_count": 44,
   "id": "e3474d35-b836-46b5-916e-d18768222925",
   "metadata": {},
   "outputs": [
    {
     "data": {
      "text/plain": [
       "array([[ 0,  1,  2,  3],\n",
       "       [ 4,  5,  6,  7],\n",
       "       [ 8,  9, 10, 11]])"
      ]
     },
     "execution_count": 44,
     "metadata": {},
     "output_type": "execute_result"
    }
   ],
   "source": [
    "array_1D = np.arange(12).reshape((3,4))\n",
    "array_1D"
   ]
  },
  {
   "cell_type": "markdown",
   "id": "48906a1d-cfbe-46b8-a7d3-85b01b380fb1",
   "metadata": {},
   "source": [
    "5. Flatten a 2D array to 1D.\n"
   ]
  },
  {
   "cell_type": "code",
   "execution_count": 45,
   "id": "c964d6c5-d129-4dbe-8118-745bb9a6324f",
   "metadata": {},
   "outputs": [
    {
     "data": {
      "text/plain": [
       "array([ 0,  1,  2,  3,  4,  5,  6,  7,  8,  9, 10, 11])"
      ]
     },
     "execution_count": 45,
     "metadata": {},
     "output_type": "execute_result"
    }
   ],
   "source": [
    "flattened_array = array_1D.flatten()\n",
    "\n",
    "flattened_array"
   ]
  },
  {
   "cell_type": "markdown",
   "id": "3113fb79-49d2-4936-abf1-7d379e3b8ddf",
   "metadata": {},
   "source": [
    "6. Create a 3x3 array and print its transpose.\n"
   ]
  },
  {
   "cell_type": "code",
   "execution_count": 46,
   "id": "cc09ff0f-7c84-4d19-baec-5670f9214f52",
   "metadata": {},
   "outputs": [
    {
     "data": {
      "text/plain": [
       "array([[ 1,  6, 11, 16],\n",
       "       [ 2,  7, 12, 17],\n",
       "       [ 3,  8, 13, 18],\n",
       "       [ 4,  9, 14, 19],\n",
       "       [ 5, 10, 15, 20]])"
      ]
     },
     "execution_count": 46,
     "metadata": {},
     "output_type": "execute_result"
    }
   ],
   "source": [
    "array_test_transpose = array_test.transpose()\n",
    "array_test_transpose"
   ]
  },
  {
   "cell_type": "markdown",
   "id": "92fc9063-0e1d-4567-a0e8-f4ab9a47dc86",
   "metadata": {},
   "source": [
    "7. Convert a list of lists into a NumPy array.\n"
   ]
  },
  {
   "cell_type": "code",
   "execution_count": 48,
   "id": "eac48843-ca3b-4c1e-bd8c-b6db40e02adc",
   "metadata": {},
   "outputs": [
    {
     "name": "stdout",
     "output_type": "stream",
     "text": [
      "[[0 0 1]\n",
      " [0 1 0]\n",
      " [1 0 0]]\n"
     ]
    }
   ],
   "source": [
    "list_of_lists = [[0,0,1],[0,1,0],[1,0,0]]\n",
    "numpy_array = np.array(list_of_lists)\n",
    "\n",
    "print(numpy_array)"
   ]
  },
  {
   "cell_type": "markdown",
   "id": "edb2694e-a7eb-4772-9d05-764819030c33",
   "metadata": {},
   "source": [
    "8. Check if a given variable is a NumPy array or not.\n"
   ]
  },
  {
   "cell_type": "code",
   "execution_count": 50,
   "id": "35b20da4-3aa9-4a6e-9c6d-1476527d6939",
   "metadata": {},
   "outputs": [
    {
     "name": "stdout",
     "output_type": "stream",
     "text": [
      "True\n"
     ]
    }
   ],
   "source": [
    "a = np.array([1,2,3,4,5])\n",
    "\n",
    "is_array = isinstance(a,np.ndarray)\n",
    "print(is_array)"
   ]
  },
  {
   "cell_type": "markdown",
   "id": "126a4be2-e6ce-4a07-ab29-0ec7551ab95a",
   "metadata": {},
   "source": [
    "9.  Copy an array using copy() and show it is not linked to the original.\n"
   ]
  },
  {
   "cell_type": "code",
   "execution_count": 54,
   "id": "33621855-7a9b-48bc-8728-602270272d57",
   "metadata": {},
   "outputs": [
    {
     "name": "stdout",
     "output_type": "stream",
     "text": [
      "Original Array :  [9 8 7 6 5 4 3 2 1 0]\n",
      "Copied Array :  [9 0 7 6 5 4 3 2 1 0]\n"
     ]
    }
   ],
   "source": [
    "original = np.array([9,8,7,6,5,4,3,2,1,0])\n",
    "\n",
    "copied = original.copy()\n",
    "copied[1]= 0\n",
    "print(\"Original Array : \",original)\n",
    "print(\"Copied Array : \",copied)"
   ]
  },
  {
   "cell_type": "markdown",
   "id": "3b1094e7-36d8-475e-9af1-1ed36537587e",
   "metadata": {},
   "source": [
    "10. Use np.full() to create a 4x4 array filled with the number 9."
   ]
  },
  {
   "cell_type": "code",
   "execution_count": 55,
   "id": "dc33a5af-b6e4-4b0d-83ee-bc12e1e894e5",
   "metadata": {},
   "outputs": [
    {
     "name": "stdout",
     "output_type": "stream",
     "text": [
      "[[9 9 9 9]\n",
      " [9 9 9 9]\n",
      " [9 9 9 9]\n",
      " [9 9 9 9]]\n"
     ]
    }
   ],
   "source": [
    "tensor_array = np.full((4,4),9)\n",
    "print(tensor_array)"
   ]
  },
  {
   "cell_type": "markdown",
   "id": "c996abd0-e31f-4c93-9a05-47799fea3788",
   "metadata": {},
   "source": [
    "# 🔹 Indexing and Slicing"
   ]
  },
  {
   "cell_type": "markdown",
   "id": "afcc2609-fb71-439d-a838-6631a3eaed53",
   "metadata": {},
   "source": [
    "1. Extract the 2nd row from a 2D array."
   ]
  },
  {
   "cell_type": "code",
   "execution_count": 58,
   "id": "081b64ab-c562-4d0b-bd06-e5f1ca015ded",
   "metadata": {},
   "outputs": [
    {
     "name": "stdout",
     "output_type": "stream",
     "text": [
      "[4 5 6]\n"
     ]
    }
   ],
   "source": [
    "array_2D = np.array([[1,2,3],\n",
    "                     [4,5,6],\n",
    "                     [7,8,9]])\n",
    "print(array_2D[1])"
   ]
  },
  {
   "cell_type": "markdown",
   "id": "05a0ebd9-a965-4f7f-a5e7-6d7d6cf98ac1",
   "metadata": {},
   "source": [
    "2. Extract the 3rd column from a 2D array."
   ]
  },
  {
   "cell_type": "code",
   "execution_count": 59,
   "id": "36920c73-99d5-47e2-aef0-f84aadde4b9d",
   "metadata": {},
   "outputs": [
    {
     "name": "stdout",
     "output_type": "stream",
     "text": [
      "[3 6 9]\n"
     ]
    }
   ],
   "source": [
    "print(array_2D[:,2])"
   ]
  },
  {
   "cell_type": "markdown",
   "id": "69492ac0-c9e8-4871-9867-41745fc2bcfa",
   "metadata": {},
   "source": [
    "3. Get a subarray (middle 3x3) from a 5x5 matrix."
   ]
  },
  {
   "cell_type": "code",
   "execution_count": 64,
   "id": "1d268518-42ba-4318-9207-3af20dedb483",
   "metadata": {},
   "outputs": [
    {
     "name": "stdout",
     "output_type": "stream",
     "text": [
      "[[ 0  1  2  3  4]\n",
      " [ 5  6  7  8  9]\n",
      " [10 11 12 13 14]\n",
      " [15 16 17 18 19]\n",
      " [20 21 22 23 24]]\n",
      "Subarray :\n",
      " [[ 6  7  8]\n",
      " [11 12 13]\n",
      " [16 17 18]]\n"
     ]
    }
   ],
   "source": [
    "array_5D = np.arange(0,25).reshape((5,5))\n",
    "print(array_5D)\n",
    "\n",
    "middle_array = array_5D[1:4,1:4]\n",
    "print(\"Subarray :\\n\",middle_array)"
   ]
  },
  {
   "cell_type": "markdown",
   "id": "edb2f77a-d94d-42b4-908a-0bfd317fd7ed",
   "metadata": {},
   "source": [
    "4. Slice the last 3 elements from a 1D array.\n"
   ]
  },
  {
   "cell_type": "code",
   "execution_count": 71,
   "id": "e20959d7-ece1-4b11-ae8a-9644029fe2b9",
   "metadata": {},
   "outputs": [
    {
     "name": "stdout",
     "output_type": "stream",
     "text": [
      "[ 1  2  3  4  5  6  7  8  9 10]\n",
      "Last 3 elements :\n",
      " [10  9  8]\n"
     ]
    }
   ],
   "source": [
    "array_1D = np.arange(1,11)\n",
    "print(array_1D)\n",
    "\n",
    "print(\"Last 3 elements :\\n\", array_1D[[-1,-2,-3]])"
   ]
  },
  {
   "cell_type": "markdown",
   "id": "257ecae4-9721-4e4a-aba8-949c450b9162",
   "metadata": {},
   "source": [
    "5. Reverse a 1D NumPy array."
   ]
  },
  {
   "cell_type": "code",
   "execution_count": 79,
   "id": "6b9bd88e-bd3f-4832-9d97-9f24d0ada1dd",
   "metadata": {},
   "outputs": [
    {
     "name": "stdout",
     "output_type": "stream",
     "text": [
      "[10  9  8  7  6  5  4  3  2  1]\n"
     ]
    }
   ],
   "source": [
    "array_reverse = array_1D[::-1]\n",
    "print(array_reverse)"
   ]
  },
  {
   "cell_type": "markdown",
   "id": "fef954a0-dbc0-4117-8775-e98d25fc6fa8",
   "metadata": {},
   "source": [
    "6. Set the first 3 elements of an array to 100."
   ]
  },
  {
   "cell_type": "code",
   "execution_count": 80,
   "id": "f98e3f7a-5cac-4254-8d99-0b09e760a23c",
   "metadata": {},
   "outputs": [
    {
     "data": {
      "text/plain": [
       "array([100, 100, 100,   4,   5,   6,   7,   8,   9,  10])"
      ]
     },
     "execution_count": 80,
     "metadata": {},
     "output_type": "execute_result"
    }
   ],
   "source": [
    "array_1D[:3]=100\n",
    "array_1D"
   ]
  },
  {
   "cell_type": "markdown",
   "id": "dffa8206-dbfe-409e-8850-2df3a9f6d45b",
   "metadata": {},
   "source": [
    "7. Replace all even numbers in an array with -1."
   ]
  },
  {
   "cell_type": "code",
   "execution_count": 82,
   "id": "cfe0d9b3-51e8-474e-bc9d-6ed93dd14e28",
   "metadata": {},
   "outputs": [
    {
     "name": "stdout",
     "output_type": "stream",
     "text": [
      "[ 1  2  3  4  5  6  7  8  9 10 11 12 13 14 15 16 17 18 19 20]\n",
      "[ 1 -1  3 -1  5 -1  7 -1  9 -1 11 -1 13 -1 15 -1 17 -1 19 -1]\n"
     ]
    }
   ],
   "source": [
    "no_array = np.arange(1,21)\n",
    "print(no_array)\n",
    "\n",
    "no_array[no_array %2==0] = -1\n",
    "print(no_array)"
   ]
  },
  {
   "cell_type": "markdown",
   "id": "d2246662-e064-4fb1-8bb9-c0a0e2e81dc3",
   "metadata": {},
   "source": [
    "8. Select only the odd elements from an array."
   ]
  },
  {
   "cell_type": "code",
   "execution_count": 87,
   "id": "38adc79d-3f42-4662-a0d5-54677c8b456f",
   "metadata": {},
   "outputs": [
    {
     "name": "stdout",
     "output_type": "stream",
     "text": [
      "[ 1  3  5  7  9 11 13 15 17 19]\n"
     ]
    }
   ],
   "source": [
    "not_array = np.arange(1,21)\n",
    "odd_array = not_array[not_array%2 != 0]\n",
    "print(odd_array)"
   ]
  },
  {
   "cell_type": "markdown",
   "id": "971ab655-9df5-469c-b355-e29cc75536d5",
   "metadata": {},
   "source": [
    "9. Find the positions of elements greater than 50 in an array."
   ]
  },
  {
   "cell_type": "code",
   "execution_count": 93,
   "id": "3abe80b5-959e-44a1-b3e9-af1b19c8b6ae",
   "metadata": {},
   "outputs": [
    {
     "name": "stdout",
     "output_type": "stream",
     "text": [
      "[44 77 88  9 46 86 31 41 83 96 35 54 16 35 45]\n",
      "[ 1  2  5  8  9 11]\n"
     ]
    }
   ],
   "source": [
    "choose = np.random.randint(1,100, size=15)\n",
    "print(choose)\n",
    "\n",
    "postion = np.where(choose>50)\n",
    "print(postion[0])"
   ]
  },
  {
   "cell_type": "markdown",
   "id": "7e6246db-49d1-4690-9fe4-d35d6bd24371",
   "metadata": {},
   "source": [
    "10.  Select a diagonal from a 2D square array."
   ]
  },
  {
   "cell_type": "code",
   "execution_count": 94,
   "id": "fe2c6c9f-0d46-4744-b23c-5fbceb159c7c",
   "metadata": {},
   "outputs": [
    {
     "name": "stdout",
     "output_type": "stream",
     "text": [
      "[1 5 9]\n"
     ]
    }
   ],
   "source": [
    "array_3d = np.array([[1,2,3],\n",
    "                     [4,5,6],\n",
    "                     [7,8,9]])\n",
    "diagonal = np.diag(array_3d)\n",
    "print(diagonal)"
   ]
  },
  {
   "cell_type": "markdown",
   "id": "6d6ce1d7-8ad3-411d-87f4-669f69a46596",
   "metadata": {},
   "source": [
    "# 🔹 Mathematical Operations"
   ]
  },
  {
   "cell_type": "markdown",
   "id": "291a6d41-1e9b-4aa8-b23e-d0bc350427bc",
   "metadata": {},
   "source": [
    "1. Perform element-wise addition of two same-size arrays."
   ]
  },
  {
   "cell_type": "code",
   "execution_count": 3,
   "id": "191e2984-cda6-4d7d-b298-3cfd4a52e394",
   "metadata": {},
   "outputs": [
    {
     "name": "stdout",
     "output_type": "stream",
     "text": [
      "[110 121 133  27  70]\n"
     ]
    }
   ],
   "source": [
    "arr1 = np.array([12,56,58,25,23])\n",
    "arr2 = np.array([98,65,75,2,47])\n",
    "\n",
    "added_arrays = arr1 + arr2\n",
    "print(added_arrays)"
   ]
  },
  {
   "cell_type": "markdown",
   "id": "b39a259f-6f95-47a3-bad7-53f7081e4d48",
   "metadata": {},
   "source": [
    "2.  Perform element-wise multiplication."
   ]
  },
  {
   "cell_type": "code",
   "execution_count": 4,
   "id": "6d9702d8-369e-4619-ae43-41b3c4d73f7b",
   "metadata": {},
   "outputs": [
    {
     "name": "stdout",
     "output_type": "stream",
     "text": [
      "[1176 3640 4350   50 1081]\n"
     ]
    }
   ],
   "source": [
    "multiplied_arrays = arr1 * arr2\n",
    "print(multiplied_arrays)"
   ]
  },
  {
   "cell_type": "markdown",
   "id": "95853bc3-5e9d-42ba-af8f-a6304efe7791",
   "metadata": {},
   "source": [
    "3. Multiply a 1D array by a scalar (e.g., 5).\n"
   ]
  },
  {
   "cell_type": "code",
   "execution_count": 5,
   "id": "b14e4811-12e1-4951-af28-fd4293fb8a17",
   "metadata": {},
   "outputs": [
    {
     "name": "stdout",
     "output_type": "stream",
     "text": [
      "[ 25  50  75 100 125]\n"
     ]
    }
   ],
   "source": [
    "array_D = np.array([5,10,15,20,25])\n",
    "scalar_multiply = array_D * 5\n",
    "\n",
    "print(scalar_multiply)"
   ]
  },
  {
   "cell_type": "markdown",
   "id": "cf913aaf-5f79-4dd3-9d41-aebfb5cae4cb",
   "metadata": {},
   "source": [
    "4. Compute the sum of all elements in an array."
   ]
  },
  {
   "cell_type": "code",
   "execution_count": 7,
   "id": "0416e43a-2731-4c55-85cd-412402677dc1",
   "metadata": {},
   "outputs": [
    {
     "name": "stdout",
     "output_type": "stream",
     "text": [
      "Sum of all elements of array : 190\n"
     ]
    }
   ],
   "source": [
    "array_sum = np.array([50,25,5,65,45])\n",
    "sum_of_elements = array_sum.sum()\n",
    "\n",
    "print(\"Sum of all elements of array :\",sum_of_elements)"
   ]
  },
  {
   "cell_type": "markdown",
   "id": "8948295f-b367-4786-9982-7422dccab4ee",
   "metadata": {},
   "source": [
    "5. Compute the row-wise and column-wise sums of a 2D array."
   ]
  },
  {
   "cell_type": "code",
   "execution_count": 15,
   "id": "835ee812-de41-4204-86b6-1a193dcb7a0e",
   "metadata": {},
   "outputs": [
    {
     "name": "stdout",
     "output_type": "stream",
     "text": [
      "Matrix :\n",
      " [[ 5 25 50]\n",
      " [ 6 26 51]\n",
      " [ 7 27 52]]\n",
      "Row Wise Addition : [80 83 86]\n",
      "Column Wise Addition : [ 18  78 153]\n"
     ]
    }
   ],
   "source": [
    "matrix = np.array([[5,25,50],\n",
    "                  [6,26,51],\n",
    "                  [7,27,52]])\n",
    "\n",
    "\n",
    "row_wise_sum = np.sum(matrix, axis=1)\n",
    "col_wise_sum = np.sum(matrix, axis=0)\n",
    "\n",
    "print(\"Matrix :\\n\",matrix)\n",
    "print(\"Row Wise Addition :\",row_wise_sum)\n",
    "print(\"Column Wise Addition :\",col_wise_sum)"
   ]
  },
  {
   "cell_type": "markdown",
   "id": "70b49a9e-d6c7-4270-ac6c-850f3c850d8a",
   "metadata": {},
   "source": [
    "6. Find the max, min, mean, and standard deviation of an array."
   ]
  },
  {
   "cell_type": "code",
   "execution_count": 21,
   "id": "d048ca4d-2cba-4a39-b31f-9f42abad0671",
   "metadata": {},
   "outputs": [
    {
     "name": "stdout",
     "output_type": "stream",
     "text": [
      "Array : [25 32 39 46 53 60 67]\n",
      "Maximun : 67\n",
      "Minimun : 25\n",
      "Mean of Array : 46.0\n",
      "Standard Deviation : 14.0\n"
     ]
    }
   ],
   "source": [
    "array_describe = np.array(np.arange(25,70,7))\n",
    "max_no = array_describe.max()\n",
    "min_no = array_describe.min()\n",
    "mean = array_describe.mean()\n",
    "std_array = array_describe.std()\n",
    "\n",
    "\n",
    "print(\"Array :\",array_describe)\n",
    "print(\"Maximun :\",max_no)\n",
    "print(\"Minimun :\",min_no)\n",
    "print(\"Mean of Array :\",mean)\n",
    "print(\"Standard Deviation :\",std_array)\n"
   ]
  },
  {
   "cell_type": "markdown",
   "id": "c11815af-a546-4dc5-8e6c-39b5dc07bd9b",
   "metadata": {},
   "source": [
    "7. Normalize a NumPy array (values between 0 and 1)."
   ]
  },
  {
   "cell_type": "code",
   "execution_count": 27,
   "id": "87174fd6-4f6b-4e69-9974-37528b070a0c",
   "metadata": {},
   "outputs": [
    {
     "name": "stdout",
     "output_type": "stream",
     "text": [
      "Array : [89 35 23 75 67 60 55 82]\n",
      "Normalized Array : [1.         0.18181818 0.         0.78787879 0.66666667 0.56060606\n",
      " 0.48484848 0.89393939]\n",
      "Normalized 2D Array :\n",
      " [[0.         0.42553191 0.95744681]\n",
      " [0.0212766  0.44680851 0.9787234 ]\n",
      " [0.04255319 0.46808511 1.        ]]\n"
     ]
    }
   ],
   "source": [
    "import random\n",
    "elements = np.random.randint(20,100, size=8)\n",
    "elements_2D = np.array([[5,25,50],\n",
    "                  [6,26,51],\n",
    "                  [7,27,52]])\n",
    "\n",
    "print(\"Array :\",elements)\n",
    "\n",
    "normalized_Array = ((elements - elements.min()) / (elements.max() - elements.min()))\n",
    "normalized_2D_Array = ((elements_2D - elements_2D.min()) / (elements_2D.max() - elements_2D.min()))\n",
    "\n",
    "print(\"Normalized Array :\",normalized_Array)\n",
    "print(\"Normalized 2D Array :\\n\",normalized_2D_Array)\n",
    "\n"
   ]
  },
  {
   "cell_type": "markdown",
   "id": "14d73695-6119-424f-903d-5a683fdba1c6",
   "metadata": {},
   "source": [
    "8. Square only the even elements in an array."
   ]
  },
  {
   "cell_type": "code",
   "execution_count": 13,
   "id": "e03c7ea2-ffe6-4aa0-aaa6-cc8471a4ecce",
   "metadata": {},
   "outputs": [
    {
     "name": "stdout",
     "output_type": "stream",
     "text": [
      "Original Array : [ 1  2  3  4  5  6  7  8  9 10 11 12 13 14 15 16 17 18 19 20]\n",
      "Even Numbers : [ 2  4  6  8 10 12 14 16 18 20]\n",
      "Square Of Even numbers : [  4  16  36  64 100 144 196 256 324 400]\n"
     ]
    }
   ],
   "source": [
    "element = np.arange(1,21)\n",
    "sq_elements = element[element%2==0]\n",
    "squared_num = sq_elements ** 2\n",
    "print(\"Original Array :\",element)\n",
    "print(\"Even Numbers :\",sq_elements)\n",
    "print(\"Square Of Even numbers :\",squared_num)"
   ]
  },
  {
   "cell_type": "markdown",
   "id": "ccffe29a-b0a7-4a3b-a4ce-32626fb9b46b",
   "metadata": {},
   "source": [
    "9. Use np.where() to replace all values > 10 with 0."
   ]
  },
  {
   "cell_type": "code",
   "execution_count": 16,
   "id": "4df76ba3-8b32-4d87-bd6d-66f65a4eee0f",
   "metadata": {},
   "outputs": [
    {
     "name": "stdout",
     "output_type": "stream",
     "text": [
      "[ 1  2  3  4  5  6  7  8  9 10  0  0  0  0  0  0  0  0  0  0]\n"
     ]
    }
   ],
   "source": [
    "num = element.copy()\n",
    "replaced_num = np.where(num>10,0,num)\n",
    "print(replaced_num)"
   ]
  },
  {
   "cell_type": "markdown",
   "id": "7a0db7c7-3082-476e-a127-8165642ba92e",
   "metadata": {},
   "source": [
    "10. Use broadcasting to subtract the mean from each row in a 2D array."
   ]
  },
  {
   "cell_type": "code",
   "execution_count": 21,
   "id": "6ef8a383-baf3-4a90-950a-49611dec5acd",
   "metadata": {},
   "outputs": [
    {
     "name": "stdout",
     "output_type": "stream",
     "text": [
      "[[-4. -3. -2.]\n",
      " [-1.  0.  1.]\n",
      " [ 2.  3.  4.]]\n"
     ]
    }
   ],
   "source": [
    "array_with_2D = np.arange(0,9).reshape((3,3))\n",
    "mean = array_with_2D.mean()\n",
    "mean_subtracted_Array = array_with_2D - mean\n",
    "print(mean_subtracted_Array)"
   ]
  },
  {
   "cell_type": "markdown",
   "id": "742a25c8-6b2e-4d07-b3a9-ab4c531ac068",
   "metadata": {
    "jp-MarkdownHeadingCollapsed": true
   },
   "source": [
    "# 🔹 Random and Sorting\n"
   ]
  },
  {
   "cell_type": "markdown",
   "id": "0d11ccaa-a2e3-4278-b520-ff24fa3f20bb",
   "metadata": {},
   "source": [
    "1. Generate a 1D array of 8 random integers between 10 and 99."
   ]
  },
  {
   "cell_type": "markdown",
   "id": "78cbfa2d-b74d-4728-996a-41b5843799b7",
   "metadata": {},
   "source": [
    "2. Shuffle the elements of an array randomly."
   ]
  },
  {
   "cell_type": "markdown",
   "id": "4fff050d-18ea-4da8-bd38-f3296650bc92",
   "metadata": {},
   "source": [
    "3. Sort a NumPy array in ascending order."
   ]
  },
  {
   "cell_type": "markdown",
   "id": "7dcb1d82-780a-4bfb-9fe9-9edbd53c38c3",
   "metadata": {},
   "source": [
    "4. Sort a 2D array by a specific row or column."
   ]
  },
  {
   "cell_type": "markdown",
   "id": "fba12d5c-7886-4bc1-9957-e924533c89b3",
   "metadata": {},
   "source": [
    "5. Set a random seed and generate reproducible random numbers."
   ]
  },
  {
   "cell_type": "markdown",
   "id": "23fa34d5-52f1-47e5-9b7d-c68ce736b6d8",
   "metadata": {},
   "source": [
    "# 🔹 Advanced Basics"
   ]
  },
  {
   "cell_type": "markdown",
   "id": "e1602d24-d55b-4dec-b847-f58ff8cc1342",
   "metadata": {},
   "source": [
    "1. Stack two 1D arrays horizontally and vertically."
   ]
  },
  {
   "cell_type": "markdown",
   "id": "1c80eb1e-e22c-44e8-b8dc-7946f7e4b318",
   "metadata": {},
   "source": [
    "2. Split an array into 3 equal parts using np.split()."
   ]
  },
  {
   "cell_type": "markdown",
   "id": "083c5ad7-bf2a-4ca4-addc-ffae6271fdfe",
   "metadata": {},
   "source": [
    "3. Use np.unique() to find unique values in an array."
   ]
  },
  {
   "cell_type": "markdown",
   "id": "6aff3049-96f3-47de-bf62-b7d2d1153b51",
   "metadata": {},
   "source": [
    "4. Use np.intersect1d() and np.setdiff1d() on two arrays."
   ]
  },
  {
   "cell_type": "markdown",
   "id": "a89d84c0-98f5-4765-aa79-92e3713c3dc5",
   "metadata": {},
   "source": [
    "5. Create a boolean mask where all values > 50 are True."
   ]
  }
 ],
 "metadata": {
  "kernelspec": {
   "display_name": "Python 3 (ipykernel)",
   "language": "python",
   "name": "python3"
  },
  "language_info": {
   "codemirror_mode": {
    "name": "ipython",
    "version": 3
   },
   "file_extension": ".py",
   "mimetype": "text/x-python",
   "name": "python",
   "nbconvert_exporter": "python",
   "pygments_lexer": "ipython3",
   "version": "3.13.3"
  }
 },
 "nbformat": 4,
 "nbformat_minor": 5
}
